{
  "cells": [
    {
      "cell_type": "markdown",
      "metadata": {
        "id": "_QtPRT90in0-"
      },
      "source": [
        "**Humpty Dumpty**"
      ]
    },
    {
      "cell_type": "code",
      "execution_count": null,
      "metadata": {
        "colab": {
          "base_uri": "https://localhost:8080/"
        },
        "id": "_owe-JELis2o",
        "outputId": "e48e3319-1f01-47b8-fadc-4a6f8274948b"
      },
      "outputs": [
        {
          "name": "stdout",
          "output_type": "stream",
          "text": [
            "Enter a number: 5\n",
            "Dumpty\n"
          ]
        }
      ],
      "source": [
        "def Humpty_Dumpty(number):\n",
        "    if number % 3 == 0 and number % 5 == 0:\n",
        "        return \"Humpty_Dumpty\"\n",
        "    elif number % 3 == 0:\n",
        "        return \"Humpty\"\n",
        "    elif number % 5 == 0:\n",
        "        return \"Dumpty\"\n",
        "    else:\n",
        "        return number\n",
        "\n",
        "\n",
        "num = int(input(\"Enter a number: \"))\n",
        "result = Humpty_Dumpty(num)\n",
        "print(result)"
      ]
    },
    {
      "cell_type": "markdown",
      "metadata": {
        "id": "UPoNef-fi2S3"
      },
      "source": [
        "**Matrix Multiplication**"
      ]
    },
    {
      "cell_type": "code",
      "execution_count": null,
      "metadata": {
        "colab": {
          "base_uri": "https://localhost:8080/"
        },
        "id": "EmQOkjUji7T4",
        "outputId": "83e194af-7341-4d2c-8e5b-f24c60e9459b"
      },
      "outputs": [
        {
          "name": "stdout",
          "output_type": "stream",
          "text": [
            "Matrix_a:\n",
            "[[1 2]\n",
            " [3 4]\n",
            " [5 6]]\n",
            "Matrix_b:\n",
            "[[ 7  8  9]\n",
            " [10 11 12]]\n",
            "Result of matrix multiplication:\n",
            "[[ 27  30  33]\n",
            " [ 61  68  75]\n",
            " [ 95 106 117]]\n"
          ]
        }
      ],
      "source": [
        "import numpy as np\n",
        "matrix_a = np.array([[1, 2],[3, 4],[5, 6]])\n",
        "matrix_b = np.array([[7, 8, 9],[10, 11, 12]])\n",
        "result = np.dot(matrix_a, matrix_b)\n",
        "\n",
        "print(\"Matrix_a:\")\n",
        "print(matrix_a)\n",
        "print(\"Matrix_b:\")\n",
        "print(matrix_b)\n",
        "print(\"Result of matrix multiplication:\")\n",
        "print(result)\n"
      ]
    },
    {
      "cell_type": "markdown",
      "metadata": {
        "id": "h5lZ0z-Ci8lh"
      },
      "source": [
        "**Returns sum of multiples**"
      ]
    },
    {
      "cell_type": "code",
      "execution_count": null,
      "metadata": {
        "colab": {
          "base_uri": "https://localhost:8080/"
        },
        "id": "gMwldSVQjCVa",
        "outputId": "af7bc825-60e3-4f22-b056-392fdb4432da"
      },
      "outputs": [
        {
          "name": "stdout",
          "output_type": "stream",
          "text": [
            "Enter the limit: 8\n",
            "The sum of multiples of 3 and 5 between 0 and 8 is:14\n"
          ]
        }
      ],
      "source": [
        "def sum_of_multiples(limit):\n",
        "    result = 0\n",
        "    for num in range(limit + 1):\n",
        "        if num % 3 == 0 or num % 5 == 0:\n",
        "            result += num\n",
        "    return result\n",
        "\n",
        "limit = int(input(\"Enter the limit: \"))\n",
        "total_sum = sum_of_multiples(limit)\n",
        "print(f\"The sum of multiples of 3 and 5 between 0 and {limit} is:{total_sum}\")"
      ]
    },
    {
      "cell_type": "markdown",
      "metadata": {
        "id": "xl7N45J6jCjO"
      },
      "source": [
        "**Read and plot**"
      ]
    },
    {
      "cell_type": "code",
      "execution_count": null,
      "metadata": {
        "colab": {
          "background_save": true,
          "base_uri": "https://localhost:8080/",
          "height": 495
        },
        "id": "43l3i4LOjF9W",
        "outputId": "c23145dd-7183-42c7-9415-3a6d9193e7a0"
      },
      "outputs": [
        {
          "ename": "NameError",
          "evalue": "ignored",
          "output_type": "error",
          "traceback": [
            "\u001b[0;31m---------------------------------------------------------------------------\u001b[0m",
            "\u001b[0;31mNameError\u001b[0m                                 Traceback (most recent call last)",
            "\u001b[0;32m<ipython-input-13-60aec1621c02>\u001b[0m in \u001b[0;36m<cell line: 3>\u001b[0;34m()\u001b[0m\n\u001b[1;32m      1\u001b[0m \u001b[0;32mimport\u001b[0m \u001b[0mmatplotlib\u001b[0m\u001b[0;34m.\u001b[0m\u001b[0mpyplot\u001b[0m \u001b[0;32mas\u001b[0m \u001b[0mplt\u001b[0m\u001b[0;34m\u001b[0m\u001b[0;34m\u001b[0m\u001b[0m\n\u001b[1;32m      2\u001b[0m \u001b[0;32mimport\u001b[0m \u001b[0mnumpy\u001b[0m \u001b[0;32mas\u001b[0m \u001b[0mnp\u001b[0m\u001b[0;34m\u001b[0m\u001b[0;34m\u001b[0m\u001b[0m\n\u001b[0;32m----> 3\u001b[0;31m \u001b[0mdata\u001b[0m \u001b[0;34m=\u001b[0m \u001b[0mpd\u001b[0m\u001b[0;34m.\u001b[0m\u001b[0mread_fwf\u001b[0m \u001b[0;34m(\u001b[0m\u001b[0;34m'/content/drive/MyDrive/data.txt'\u001b[0m\u001b[0;34m)\u001b[0m\u001b[0;34m\u001b[0m\u001b[0;34m\u001b[0m\u001b[0m\n\u001b[0m\u001b[1;32m      4\u001b[0m \u001b[0mplt\u001b[0m\u001b[0;34m.\u001b[0m\u001b[0mplot\u001b[0m\u001b[0;34m(\u001b[0m\u001b[0mdata\u001b[0m\u001b[0;34m[\u001b[0m\u001b[0;34m:\u001b[0m\u001b[0;34m,\u001b[0m \u001b[0;36m0\u001b[0m\u001b[0;34m]\u001b[0m\u001b[0;34m,\u001b[0m \u001b[0mdata\u001b[0m\u001b[0;34m[\u001b[0m\u001b[0;34m:\u001b[0m\u001b[0;34m,\u001b[0m \u001b[0;36m1\u001b[0m\u001b[0;34m]\u001b[0m\u001b[0;34m)\u001b[0m\u001b[0;34m\u001b[0m\u001b[0;34m\u001b[0m\u001b[0m\n\u001b[1;32m      5\u001b[0m \u001b[0mplt\u001b[0m\u001b[0;34m.\u001b[0m\u001b[0mtitle\u001b[0m\u001b[0;34m(\u001b[0m\u001b[0;34m'Data from data.txt'\u001b[0m\u001b[0;34m)\u001b[0m\u001b[0;34m\u001b[0m\u001b[0;34m\u001b[0m\u001b[0m\n",
            "\u001b[0;31mNameError\u001b[0m: name 'pd' is not defined"
          ]
        }
      ],
      "source": [
        "import matplotlib.pyplot as plt\n",
        "import numpy as np\n",
        "data = np.loadtxt ('/content/drive/MyDrive/data.txt')\n",
        "plt.plot(data[:, 0], data[:, 1])\n",
        "plt.title('Data from data.txt')\n",
        "plt.xlabel('X')\n",
        "plt.ylabel('Y')\n",
        "m, c = np.polyfit(data[:, 0], data[:, 1], 1)\n",
        "plt.plot(data[:, 0], m*data[:, 0] + c, color='green')\n",
        "plt.show()"
      ]
    }
  ],
  "metadata": {
    "colab": {
      "provenance": []
    },
    "kernelspec": {
      "display_name": "Python 3",
      "name": "python3"
    },
    "language_info": {
      "name": "python"
    }
  },
  "nbformat": 4,
  "nbformat_minor": 0
}